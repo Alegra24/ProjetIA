{
 "cells": [
  {
   "cell_type": "code",
   "execution_count": 1,
   "id": "bc82ed73",
   "metadata": {},
   "outputs": [],
   "source": [
    "#A Faire\n",
    "\n",
    "##Visualisation\n",
    "#Supprimer les doublons et les valeurs vides\n",
    "#Faire des histogrammes et diagramme si possible\n",
    "\n",
    "## Classification supervisée\n",
    "#Regression logistique\n",
    "#SVM\n",
    "#Naive Bayes\n",
    "#Resaux de Neurones\n",
    "#Arbre de décision\n",
    "#Random forest\n",
    "\n"
   ]
  },
  {
   "cell_type": "code",
   "execution_count": null,
   "id": "4ecfd3b5",
   "metadata": {},
   "outputs": [],
   "source": []
  }
 ],
 "metadata": {
  "kernelspec": {
   "display_name": "Python 3 (ipykernel)",
   "language": "python",
   "name": "python3"
  },
  "language_info": {
   "codemirror_mode": {
    "name": "ipython",
    "version": 3
   },
   "file_extension": ".py",
   "mimetype": "text/x-python",
   "name": "python",
   "nbconvert_exporter": "python",
   "pygments_lexer": "ipython3",
   "version": "3.11.5"
  }
 },
 "nbformat": 4,
 "nbformat_minor": 5
}
